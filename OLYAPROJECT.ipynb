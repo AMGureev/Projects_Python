{
 "cells": [
  {
   "cell_type": "code",
   "execution_count": null,
   "id": "b4fffcda",
   "metadata": {
    "lines_to_next_cell": 1,
    "id": "b4fffcda",
    "is_executing": true
   },
   "outputs": [],
   "source": [
    "def create_translation_dict(original_text, russian_translation):\n",
    "    # Функция create_translation_dict() создает словарь, в котором ключами являются слова на корейском языке, а значениями - слова на русском языке.\n",
    "    translation_dict = {} # словарь, который вернет функция\n",
    "    for word, translation in zip(original_text, russian_translation): # word - корейское слово, translation - русское. zip() создает пару.\n",
    "      translation_dict[word] = translation # наполняем словарь\n",
    "    return translation_dict # возвращаем словарь"
   ]
  },
  {
   "cell_type": "code",
   "execution_count": null,
   "id": "50f234a3",
   "metadata": {
    "lines_to_next_cell": 1,
    "id": "50f234a3",
    "is_executing": true
   },
   "outputs": [],
   "source": [
    "def translate_to_russian(text, translation_dict, punctuation):\n",
    "    # Функция translate_to_russian() переводит оригинальный текст скорейского на русский язык, используя созданный словарь перевода, сохраняя пунктуацию.\n",
    "    translated_text = '' #  строка с текстом, которую вернет функция\n",
    "    ind = 0 # индекс для знаков препинания\n",
    "    flag = True # флаг для слов с прописной буквы\n",
    "    for word in text: # пробегаемся по каждому слову в тексте\n",
    "      if flag: # если слово надо начать с большой буквы\n",
    "        flag = False # сбрасываем флаг - след. слово с маленькой буквы\n",
    "        translated_text = translated_text + ' ' + translation_dict[word][0].upper() + translation_dict[word][1:] # записываем в строку слово с большой буквы\n",
    "      else: # если слово надо начать с маленькой буквы\n",
    "        translated_text = translated_text + ' ' + translation_dict[word] # записываем в строку слово с маленькой буквы\n",
    "      if ind in punctuation.keys(): # если после данного слова нужно поставить знак препинания\n",
    "        translated_text += punctuation[ind] # записываем в строку знак препинания\n",
    "        if punctuation[ind] in '.!?': # если этот знак - начало нового предложения\n",
    "          flag = True # следующее слово будет с большой буквы\n",
    "      ind += 1 # увеличение индекса\n",
    "    return translated_text.strip() # возвращаем получившуюся строку"
   ]
  },
  {
   "cell_type": "code",
   "source": [
    "def check_punctuation(text):\n",
    "  # Функция check_punctuation() вернет словарь, в котором ключами будут позиции знаков препинания, а значениями сами знаки препинания\n",
    "  punctuation_marks = {} # словарь, который вернет функция\n",
    "  ind = 0 # индекс обрабатываемого слова\n",
    "  for word in text.split(): # пробегаемся по каждому слову в тексте\n",
    "    if word[-1] in './,!?*&^%': # если слово оканчивается на знааак препинания\n",
    "      punctuation_marks[ind] = word[-1] # добавляем в словарь пару\n",
    "    ind += 1 # увеличение индекса\n",
    "  return punctuation_marks # возвращаем словарь"
   ],
   "metadata": {
    "id": "Ekg627FDER_h"
   },
   "id": "Ekg627FDER_h",
   "execution_count": 74,
   "outputs": []
  },
  {
   "cell_type": "code",
   "source": [
    "def delete_all_punctuations(text):\n",
    "  # Функция delete_all_punctuations() вернет измененный текст, в котором не будет знаков препинания\n",
    "  punctuation = ',./!?&()' # знаки пунктуации\n",
    "  for i in punctuation: # пробежим по всем возможным знакам\n",
    "    text.replace(i, '') # заменяем в тексте знак на пустоту\n",
    "  return text # возвращаем получившуюся строку"
   ],
   "metadata": {
    "id": "HEZxgoT6FnB_"
   },
   "id": "HEZxgoT6FnB_",
   "execution_count": 75,
   "outputs": []
  },
  {
   "cell_type": "code",
   "execution_count": 84,
   "id": "e29edd85",
   "metadata": {
    "lines_to_next_cell": 1,
    "id": "e29edd85",
    "colab": {
     "base_uri": "https://localhost:8080/"
    },
    "outputId": "fe2df85e-58e3-44d6-a989-fcf9f24b9fed"
   },
   "outputs": [
    {
     "output_type": "stream",
     "name": "stdout",
     "text": [
      "Перевод на русский язык:\n",
      "Тигр, кролик, дракон, змея, лошадь, баран, обезьяна, петух, собака, свинья, двенадцать животные по очереди к финишу прибыли. С тех пор двенадцать животные по очереди каждый год сменялись и главный становились мир защита начинали мир снова покой обрел. В воду упавшая кошка в итоге двенадцать животных в число войти не смогла с тех пор кошка и мышь поссорились.\n"
     ]
    }
   ],
   "source": [
    "# Основной блок кода. Часть 1\n",
    "with open('перевод.txt', 'r', encoding='utf-8') as file: # считываем файл с корейским текстом\n",
    "  korean_text = ''.join(file.readlines()) # образуем строку, склеивая разные 'строки' файла\n",
    "punctuation = check_punctuation(korean_text) # проверяем пунктуацию корейского текста\n",
    "korean_text = delete_all_punctuations(korean_text) # удаляем знаки препинания из корейского текста\n",
    "korean_words = korean_text.split() # создаем на основе текста список\n",
    "# Создаем список с русскими словами\n",
    "russian_translation = [\"тигр\", 'кролик', 'дракон', 'змея', 'лошадь', 'баран', 'обезьяна', 'петух', 'собака', 'свинья', 'двенадцать', 'животные', 'по очереди', 'к финишу', 'прибыли', 'с тех пор', 'двенадцать', 'животные', 'по очереди', 'каждый год', 'сменялись и', 'главный', 'становились', 'мир', 'защита', 'начинали', 'мир', 'снова', 'покой', 'обрел', 'в воду', 'упавшая', 'кошка', 'в итоге', 'двенадцать', 'животных', 'в число', 'войти', 'не смогла', 'с тех пор', 'кошка и', 'мышь', 'поссорились']\n",
    "translation_dict = create_translation_dict(korean_words, russian_translation) # создаем словарь с переводом корейских слов\n",
    "russian_text = translate_to_russian(korean_words, translation_dict, punctuation) # получаем строку с русским переводом корейского текста\n",
    "\n",
    "# Выводим результат\n",
    "print(\"Перевод на русский язык:\")\n",
    "print(russian_text)"
   ]
  },
  {
   "cell_type": "code",
   "source": [
    "# Основной блок кода. Часть 2\n",
    "original_translate = set() # пустое множество слов в оригинальном переводе\n",
    "program_translate = set() # пустое множество слов в переводе, полученным программой\n",
    "with open('оригинал.txt', 'r', encoding='utf-8') as file: # считываем файл с оригинальным переводом\n",
    "  original_text = ''.join(file.readlines()).strip() # образуем строку, склеивая разные 'строки' файла\n",
    "\n",
    "original_text = delete_all_punctuations(original_text) # удаляем все знаки препинания из оригинального перевода\n",
    "\n",
    "for word in original_text.split(): # переберем каждое слово в списке оригинального перевода\n",
    "  original_translate.add(word.lower()) # добавляем слово в нижнем регистре в множество оригинального перевода\n",
    "\n",
    "russian_text = delete_all_punctuations(russian_text) # удаляем все знаки препинания из перевода программы\n",
    "\n",
    "for word in russian_text.split(): # переберем каждое слово в списке перевода, полученного программой\n",
    "  program_translate.add(word.lower()) # добавляем слово в нижнем регистре в множество перевода, полученного программой\n",
    "\n",
    "# Проверка на корректность слов (склонение и падежи)\n",
    "print(f\"Процент совпадения слов: {round((len(original_translate.intersection(program_translate)) / len(original_translate)) * 100, 3)}%\")\n",
    "\n",
    "# Проверка на совпадение слов (правильную последовательность, построение предложения)\n",
    "counter = 0 # счетчик несовпадений\n",
    "for ind in range(0, len(russian_text.split())): # переберем каждое слово из списков оригинального и программного переводов\n",
    "  if russian_text.split()[ind] != original_text.split()[ind]: # если слова не одинаковые\n",
    "    counter += 1 # увеличиваем счетчик\n",
    "print(f\"Процент несовпадения слов (построение предложения): {round((counter / len(russian_text.split())* 100), 3)}%\")"
   ],
   "metadata": {
    "colab": {
     "base_uri": "https://localhost:8080/"
    },
    "id": "bLjKTaCROna4",
    "outputId": "d34ce5d4-f4cf-42a4-90b9-ffb866ba9563"
   },
   "id": "bLjKTaCROna4",
   "execution_count": 88,
   "outputs": [
    {
     "output_type": "stream",
     "name": "stdout",
     "text": [
      "Процент совпадения слов: 78.723%\n",
      "Процент совпадения слов (построение предложения): 47.368%\n"
     ]
    }
   ]
  }
 ],
 "metadata": {
  "jupytext": {
   "cell_metadata_filter": "-all",
   "main_language": "python",
   "notebook_metadata_filter": "-all"
  },
  "colab": {
   "provenance": []
  },
  "language_info": {
   "name": "python"
  },
  "kernelspec": {
   "name": "python3",
   "display_name": "Python 3"
  }
 },
 "nbformat": 4,
 "nbformat_minor": 5
}
