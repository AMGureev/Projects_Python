{
  "nbformat": 4,
  "nbformat_minor": 0,
  "metadata": {
    "colab": {
      "provenance": []
    },
    "kernelspec": {
      "name": "python3",
      "display_name": "Python 3"
    },
    "language_info": {
      "name": "python"
    }
  },
  "cells": [
    {
      "cell_type": "markdown",
      "source": [
        "# Проект по Python"
      ],
      "metadata": {
        "id": "X28APWCPmgYc"
      }
    },
    {
      "cell_type": "markdown",
      "source": [
        "## Обоснование выбора файлов\n",
        "\n",
        "Для анализа мы выбрали данные о продукции **Burger King** и **Subway**, чтобы сравнить их по ряду ключевых показателей питания. Мы хотим выявить такие показатели, как различия в калорийности, содержании жира, холестерина и других нутриентов между продукцией двух популярных сетей фаст-фуда."
      ],
      "metadata": {
        "id": "o2vymPaup0Be"
      }
    },
    {
      "cell_type": "markdown",
      "source": [
        "## Определение функций для нахождения описательных статистик"
      ],
      "metadata": {
        "id": "KxbTRXuZmlW9"
      }
    },
    {
      "cell_type": "markdown",
      "source": [
        "### Среднее значение\n",
        "$\n",
        "\\bar{x} = \\frac{1}{n} \\sum_{i=1}^{n} x_i\n",
        "$  \n",
        "где:\n",
        "- $\\bar{x}$ — среднее значение,\n",
        "- $n$ — количество элементов в выборке,\n",
        "- $x_i$ — значение каждого элемента в выборке.\n",
        "\n",
        "### Медиана\n",
        "\n",
        "Для *нечетного* количества элементов:\n",
        "\n",
        "$\n",
        "\\text{Медиана} = x_{\\left(\\frac{n+1}{2}\\right)}\n",
        "\\\n",
        "$\n",
        "\n",
        "Для *четного* количества элементов:\n",
        "\n",
        "$\n",
        "\\text{Медиана} = \\frac{x_{\\left(\\frac{n}{2}\\right)} + x_{\\left(\\frac{n}{2} + 1\\right)}}{2}\n",
        "$\n",
        "\n",
        "где:\n",
        "- $x_i$ — элементы выборки, отсортированные по возрастанию,\n",
        "- $n$ — количество элементов в выборке.\n",
        "\n",
        "### Размах\n",
        "\n",
        "$\n",
        "\\text{Размах} = \\max(x) - \\min(x)\n",
        "$\n",
        "\n",
        "где:\n",
        "- $\\max(x)$ — максимальное значение выборки,\n",
        "- $\\min(x)$ — минимальное значение выборки.\n",
        "\n",
        "### Коэффициент корреляции Пирсона\n",
        "\n",
        "$\n",
        "r = \\frac{\\sum_{i=1}^{n} (x_i - \\bar{x})(y_i - \\bar{y})}{\\sqrt{\\sum_{i=1}^{n} (x_i - \\bar{x})^2 \\sum_{i=1}^{n} (y_i - \\bar{y})^2}}\n",
        "$\n",
        "\n",
        "где:\n",
        "- $r$ — коэффициент корреляции Пирсона,\n",
        "- $x_i$ — значения первой выборки,\n",
        "- $y_i$ — значения второй выборки,\n",
        "- $\\bar{x}$ — среднее значение первой выборки,\n",
        "- $\\bar{y}$ — среднее значение второй выборки,\n",
        "- $n$ — количество элементов в выборке.\n",
        "\n",
        "### Дисперсия\n",
        "\n",
        "$\n",
        "\\sigma^2 = \\frac{1}{n} \\sum_{i=1}^{n} (x_i - \\bar{x})^2\n",
        "$\n",
        "\n",
        "где:\n",
        "- $\\sigma^2$ — дисперсия,\n",
        "- $x_i$ — значения выборки,\n",
        "- $\\bar{x}$ — среднее значение выборки,\n",
        "- $n$ — количество элементов в выборке."
      ],
      "metadata": {
        "id": "PsTujldgFBt2"
      }
    },
    {
      "cell_type": "code",
      "source": [
        "def find_average_value(data) -> float: # фунция для нахождения среднего значения\n",
        "\n",
        "  data = list(map(float, data)) # изменение списка строк в список вещ. чисел\n",
        "\n",
        "  return round( sum(data) / len(data), 2 ) # вычисление среднего значения\n",
        "\n",
        "def find_median(data) -> float: # функция для нахождения медианы\n",
        "\n",
        "  data = list(map(float, data)) # изменение списка строк в список вещ. чисел\n",
        "  data = sorted(data) # сортировка массива\n",
        "\n",
        "  if len(data) % 2 != 0: # если кол-во значений в выборке нечетно\n",
        "    return round( data[len(data) // 2], 2 ) # вернуть число по середине\n",
        "\n",
        "  return round( ( data[len(data) // 2] + data[len(data) // 2 - 1] ) / 2 , 2 ) # вернуть среднее двух чисел из середины\n",
        "\n",
        "def find_range(data) -> float: # фунция для нахождения размаха\n",
        "\n",
        "  data = list(map(float, data)) # изменение списка строк в список вещ. чисел\n",
        "\n",
        "  return round( max(data) - min(data) , 2 ) # вернуть разницу между максимальным и минимальным элементами выборки\n",
        "\n",
        "def return_sum_Pearson(f_data, s_data) -> float: # функция для подсчета числителя в формуле коэф Пирсона\n",
        "\n",
        "  f_data = list(map(float, f_data)) # изменение списка строк в список вещ. чисел\n",
        "  s_data = list(map(float, s_data)) # изменение списка строк в список вещ. чисел\n",
        "\n",
        "  r = 0 # переменная-счетчик суммы\n",
        "\n",
        "  f_av = find_average_value(f_data) # мат.ожидание первой выборки\n",
        "\n",
        "  s_av = find_average_value(s_data) # мат.ожидание второй выборки\n",
        "\n",
        "  for i in range(len(f_data)): # подсчет по формуле\n",
        "    r += ( f_data[i] -  f_av ) * ( s_data[i] - s_av ) # подсчет по формуле\n",
        "\n",
        "  return r # вернуть счетчик-сумму\n",
        "\n",
        "\n",
        "def find_Pearson_coefficient(f_data, s_data) -> float: # функций для подсчета коэф Пирсона\n",
        "\n",
        "  f_data = list(map(float, f_data)) # изменение списка строк в список вещ. чисел\n",
        "  s_data = list(map(float, s_data)) # изменение списка строк в список вещ. чисел\n",
        "\n",
        "  f = 0 # переменная-счетчик суммы\n",
        "  s = 0 # переменная-счетчик суммы\n",
        "\n",
        "  f_av = find_average_value(f_data) # мат.ожидание первой выборки\n",
        "  s_av = find_average_value(s_data) # мат.ожидание второй выборки\n",
        "\n",
        "  for i in range(len(f_data)): # подсчет по формуле\n",
        "    f += (f_data[i] - f_av) ** 2 # подсчет по формуле\n",
        "    s += (s_data[i] - s_av) ** 2 # подсчет по формуле\n",
        "\n",
        "  return round( return_sum_Pearson(f_data, s_data) / (( f * s ) ** 0.5 ) , 2 ) # вернуть коэф Пирсона\n",
        "\n",
        "def find_variance(data) -> float: # функция для подсчета дисперсии\n",
        "\n",
        "  data = list(map(float, data)) # изменение списка строк в список вещ. чисел\n",
        "\n",
        "  av = find_average_value(data) # мат.ожидание выборки\n",
        "\n",
        "  return round( sum( [ ( data[i] - av ) ** 2 for i in range(len(data)) ] ) / len(data) , 10 ) # вернуть значение дисперсии"
      ],
      "metadata": {
        "id": "58EC9bz-mlB2"
      },
      "execution_count": null,
      "outputs": []
    },
    {
      "cell_type": "markdown",
      "source": [
        "## Определение функции для считывания файлов"
      ],
      "metadata": {
        "id": "pxuxW3-xtfPO"
      }
    },
    {
      "cell_type": "code",
      "source": [
        "def reading_files(name) -> dict: # функция для считывания информации из файла и заполнения словаря\n",
        "\n",
        "  with open(name,encoding=\"utf-8\") as file: # открытие файла\n",
        "    data = file.readlines() # считать все строки из файла\n",
        "\n",
        "  dictionary = dict() # создание пустого словаря для сохранения результатов\n",
        "\n",
        "  for string in data[0].split(\",\"): # пробежим по первой строке файла, где хранятся ключи\n",
        "    dictionary[string] = [] # заполним словарь ключами\n",
        "\n",
        "  for string in data[1:]: # пробежим с второй строки файла для заполнения словаря данными\n",
        "    for i in range( len( dictionary.keys() ) ): # пробежим по каждому ключу из словаря\n",
        "      s = string.split(\",\")[i] # забираем i-ый элемент из строки\n",
        "      dictionary[ list( dictionary.keys() )[i] ].append(s) # кладем в словарь i-ый элемент из строки\n",
        "\n",
        "  return dictionary # возвращаем заполненный словарь"
      ],
      "metadata": {
        "id": "DMOHLWdMxY89"
      },
      "execution_count": null,
      "outputs": []
    },
    {
      "cell_type": "markdown",
      "source": [
        "## Определение функции для составления рейтинга"
      ],
      "metadata": {
        "id": "yRmBlkqYrV27"
      }
    },
    {
      "cell_type": "code",
      "source": [
        "def top_10_by_calories(dictionary_f, dictionary_s): # функция для заполнения файлика из топ 10 по калориям\n",
        "\n",
        "  column_f = \"Restaurant\" # переменная-колонка\n",
        "  column_s = \"Calories\" # переменная-колонка (ключ словаря)\n",
        "  column_t = \"Item\" # переменная-колонка (ключ словаря)\n",
        "\n",
        "  all_calories = dictionary_f[column_s] + dictionary_s[column_s] # обьединение двух выборок\n",
        "  all_items = dictionary_f[column_t] + dictionary_s[column_t] # обьединение двух выборок\n",
        "  all_restaurant = str(len(dictionary_f[column_s]) * \"Subway,\" + len(dictionary_s[column_s]) * \"Burger King,\").split(\",\") # создание списка с названиями ресторанов\n",
        "\n",
        "  data = [[all_restaurant[i],(float(all_calories[i])), all_items[i]] for i in range(len(all_calories))] # создание большого списка с данными\n",
        "  data.sort(key=lambda el: el[1],reverse=True) # сортировка списка по калориям (от большего к меньшему)\n",
        "\n",
        "  with open(\"result_top_10.txt\", \"w\") as file: # создание/открытие файла\n",
        "    file.write(f\"{column_f}, {column_s}, {column_t}\\n\") # запись в файл названия колонок\n",
        "    for element in data[:10]: # пробегаем по первым 10 элементам\n",
        "      file.write(f\"{element[0]}, {element[1]}, {element[2]}\\n\") # заполняем текстовый файл полученными данными"
      ],
      "metadata": {
        "id": "be2ECYO79AUp"
      },
      "execution_count": null,
      "outputs": []
    },
    {
      "cell_type": "markdown",
      "source": [
        "## Ячейка с вызовом функций"
      ],
      "metadata": {
        "id": "qUsqvk45y-P5"
      }
    },
    {
      "cell_type": "code",
      "source": [
        "dictionary_subway = reading_files(\"subway-menu-nutrition.csv\") # вызов функции reading_files(), создание словаря с данными из ресторана Subway\n",
        "\n",
        "dictionary_burger_king = reading_files(\"burger-king-menu.csv\") # вызов функции reading_files(), создание словаря с данными из ресторана Burger King\n",
        "\n",
        "top_10_by_calories(dictionary_subway, dictionary_burger_king) # создание файла с рейтингом по калориям\n",
        "\n",
        "print(f\"Average calories in Subway: {find_average_value(dictionary_subway['Calories'])}.\\n\") # нахождение среднего значения калориев в ресторане Subway\n",
        "\n",
        "print(f\"Median fat (g) in Burger King: {find_median(dictionary_burger_king['Fat (g)'])} (g).\\n\") # нахождение значения медианы жиров в ресторане Burger King\n",
        "\n",
        "print(f\"Range Cholesterol (mg) in Subway {find_range(dictionary_subway['Cholesterol (mg)'])} (mg).\\n\") # нахождение размаха холестерина в ресторане Subway\n",
        "\n",
        "print(f\"Coefficient Pearson between fat (g) and cholesterol in Burger King: {find_Pearson_coefficient(dictionary_burger_king['Fat (g)'], dictionary_burger_king['Cholesterol (mg)'])}.\\n\") # нахождение коэф. Пирсона между жирами и холестерином в ресторане Burger King\n",
        "\n",
        "print(f\"Variance dietary fiber (g) in Burger King: {find_variance(dictionary_burger_king['Dietary Fiber (g)'])}.\") # нахождение дисперсии пищевых волокон в ресторане Burger King"
      ],
      "metadata": {
        "colab": {
          "base_uri": "https://localhost:8080/"
        },
        "id": "j8eTRQ8Oy-iu",
        "outputId": "4a5c4289-e190-46b3-dcf4-1d8f1c581cca"
      },
      "execution_count": null,
      "outputs": [
        {
          "output_type": "stream",
          "name": "stdout",
          "text": [
            "Average calories in Subway: 316.61.\n",
            "\n",
            "Median fat (g) in Burger King: 28.0 (g).\n",
            "\n",
            "Range Cholesterol (mg) in Subway 195.0 (mg).\n",
            "\n",
            "Coefficient Pearson between fat (g) and cholesterol in Burger King: 0.67.\n",
            "\n",
            "Variance dietary fiber (g) in Burger King: 2.821387013.\n"
          ]
        }
      ]
    },
    {
      "cell_type": "markdown",
      "source": [
        "## Интерпретация результатов"
      ],
      "metadata": {
        "id": "JBnGu5YarcCj"
      }
    },
    {
      "cell_type": "markdown",
      "source": [
        "1. **Среднее количество калорий в Subway: 316.61**.\n",
        "   - Оказалось, что средняя калорийность продукции Subway составляет 316.61 калорий. Это означает, что продукты Subway относительно низкокалорийные по сравнению с типичными блюдами фаст-фуда.\n",
        "\n",
        "2. **Медианное содержание жира в Burger King: 28.0 г**.\n",
        "   - Медиана показывает, что половина продуктов Burger King содержит меньше 28 граммов жира, а другая половина — больше.\n",
        "\n",
        "3. **Разброс содержания холестерина в Subway: 195.0 мг**.\n",
        "   - Полученный результат указывает на значительное разнообразие в уровне холестерина среди различных продуктов из ресторана Subway.\n",
        "\n",
        "4. **Коэффициент корреляции Пирсона между жиром (г) и холестерином в Burger King: 0.67**.\n",
        "   - Коэффициент корреляции 0.67 указывает на умеренно сильную положительную связь между содержанием жира и холестерина в продуктах Burger King. Получается, что продукты с более высоким содержанием жира, как правило, содержат больше холестерина.\n",
        "\n",
        "5. **Дисперсия пищевых волокон в Burger King: 2.821387013**.\n",
        "   - Высокое значение дисперсии указывает на большую вариативность содержания пищевых волокон в продуктах Burger King. Это значит, что некоторые продукты могут быть очень богаты пищевыми волокнами, а другие — почти не содержать их."
      ],
      "metadata": {
        "id": "nvrtJU9EriPI"
      }
    },
    {
      "cell_type": "markdown",
      "source": [
        "### Интерпретация рейтинга по калориям\n",
        "\n",
        "1. **Burger King занимает большинство мест в топ-10:**\n",
        "   - Из 10 позиций в рейтинге 9 занимают продукты Burger King, что указывает на то, что продукция Burger King в целом более калорийна по сравнению с Subway.\n",
        "\n",
        "2. **Самый калорийный продукт - Triple Whopper® Sandwich with Cheese от Burger King:**\n",
        "   - Данный продукт содержит 1220 калорий. Это типичный пример высококалорийного фаст-фуда, который может содержать большие порции мяса и сыра, что значительно увеличивает калорийность.\n",
        "\n",
        "3. **Subway представлен только одной позицией в нашем топе:**\n",
        "   - Продукт Subway BBQ Rib Signature Wrap занимает 5-е место с 1080 калориями. Это может означать, что хотя Subway и позиционируется как более 'здоровый фаст-фуд', но также в меню содержит продукты с высоким содержанием калорий.\n",
        "\n",
        "4. **Диапазон калорий в топ-10:**\n",
        "   - Калорийность продуктов в рейтинге варьируется от 900 до 1220 . Это показывает, что даже среди самых калорийных продуктов разница в калорийности может быть значительной.\n",
        "\n",
        "5. **Общая тенденция:**\n",
        "   - Большинство продуктов с высокой калорийностью — это бургеры или продукты с множеством компонентов, таких как бекон, сыр и соусы. Это типично для фаст-фуда, где большое количество ингредиентов увеличивает общую калорийность блюда."
      ],
      "metadata": {
        "id": "jQucvrFbsQrX"
      }
    }
  ]
}